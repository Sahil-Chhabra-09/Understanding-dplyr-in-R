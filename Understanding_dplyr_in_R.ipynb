{
  "nbformat": 4,
  "nbformat_minor": 0,
  "metadata": {
    "colab": {
      "provenance": [],
      "authorship_tag": "ABX9TyOlGMn03WcFwa5O2QH5qiL4",
      "include_colab_link": true
    },
    "kernelspec": {
      "name": "ir",
      "display_name": "R"
    },
    "language_info": {
      "name": "R"
    }
  },
  "cells": [
    {
      "cell_type": "markdown",
      "metadata": {
        "id": "view-in-github",
        "colab_type": "text"
      },
      "source": [
        "<a href=\"https://colab.research.google.com/github/Sahil-Chhabra-09/Understanding-dplyr-in-R/blob/main/Understanding_dplyr_in_R.ipynb\" target=\"_parent\"><img src=\"https://colab.research.google.com/assets/colab-badge.svg\" alt=\"Open In Colab\"/></a>"
      ]
    },
    {
      "cell_type": "markdown",
      "source": [
        "There are 6 main verbs in dplyr:\n",
        "* Filter\n",
        "* Select\n",
        "* Pipe\n",
        "* Group By\n",
        "* Summarize\n",
        "* Mutate\n",
        "* Arrange"
      ],
      "metadata": {
        "id": "pVAfhlsSnTY0"
      }
    },
    {
      "cell_type": "code",
      "source": [
        "library(dplyr)\n",
        "library(ggplot2)"
      ],
      "metadata": {
        "id": "WkN_GROhoSZu"
      },
      "execution_count": 28,
      "outputs": []
    },
    {
      "cell_type": "markdown",
      "source": [
        "## filter"
      ],
      "metadata": {
        "id": "QfsLsNVunpQw"
      }
    },
    {
      "cell_type": "code",
      "execution_count": 29,
      "metadata": {
        "colab": {
          "base_uri": "https://localhost:8080/",
          "height": 286
        },
        "id": "oorXpq5PnC2Q",
        "outputId": "435ebe33-4135-4877-fe3a-0ba07ceea764"
      },
      "outputs": [
        {
          "output_type": "display_data",
          "data": {
            "text/html": [
              "<table class=\"dataframe\">\n",
              "<caption>A tibble: 6 × 11</caption>\n",
              "<thead>\n",
              "\t<tr><th scope=col>manufacturer</th><th scope=col>model</th><th scope=col>displ</th><th scope=col>year</th><th scope=col>cyl</th><th scope=col>trans</th><th scope=col>drv</th><th scope=col>cty</th><th scope=col>hwy</th><th scope=col>fl</th><th scope=col>class</th></tr>\n",
              "\t<tr><th scope=col>&lt;chr&gt;</th><th scope=col>&lt;chr&gt;</th><th scope=col>&lt;dbl&gt;</th><th scope=col>&lt;int&gt;</th><th scope=col>&lt;int&gt;</th><th scope=col>&lt;chr&gt;</th><th scope=col>&lt;chr&gt;</th><th scope=col>&lt;int&gt;</th><th scope=col>&lt;int&gt;</th><th scope=col>&lt;chr&gt;</th><th scope=col>&lt;chr&gt;</th></tr>\n",
              "</thead>\n",
              "<tbody>\n",
              "\t<tr><td>audi</td><td>a4</td><td>1.8</td><td>1999</td><td>4</td><td>auto(l5)  </td><td>f</td><td>18</td><td>29</td><td>p</td><td>compact</td></tr>\n",
              "\t<tr><td>audi</td><td>a4</td><td>1.8</td><td>1999</td><td>4</td><td>manual(m5)</td><td>f</td><td>21</td><td>29</td><td>p</td><td>compact</td></tr>\n",
              "\t<tr><td>audi</td><td>a4</td><td>2.0</td><td>2008</td><td>4</td><td>manual(m6)</td><td>f</td><td>20</td><td>31</td><td>p</td><td>compact</td></tr>\n",
              "\t<tr><td>audi</td><td>a4</td><td>2.0</td><td>2008</td><td>4</td><td>auto(av)  </td><td>f</td><td>21</td><td>30</td><td>p</td><td>compact</td></tr>\n",
              "\t<tr><td>audi</td><td>a4</td><td>2.8</td><td>1999</td><td>6</td><td>auto(l5)  </td><td>f</td><td>16</td><td>26</td><td>p</td><td>compact</td></tr>\n",
              "\t<tr><td>audi</td><td>a4</td><td>2.8</td><td>1999</td><td>6</td><td>manual(m5)</td><td>f</td><td>18</td><td>26</td><td>p</td><td>compact</td></tr>\n",
              "</tbody>\n",
              "</table>\n"
            ],
            "text/markdown": "\nA tibble: 6 × 11\n\n| manufacturer &lt;chr&gt; | model &lt;chr&gt; | displ &lt;dbl&gt; | year &lt;int&gt; | cyl &lt;int&gt; | trans &lt;chr&gt; | drv &lt;chr&gt; | cty &lt;int&gt; | hwy &lt;int&gt; | fl &lt;chr&gt; | class &lt;chr&gt; |\n|---|---|---|---|---|---|---|---|---|---|---|\n| audi | a4 | 1.8 | 1999 | 4 | auto(l5)   | f | 18 | 29 | p | compact |\n| audi | a4 | 1.8 | 1999 | 4 | manual(m5) | f | 21 | 29 | p | compact |\n| audi | a4 | 2.0 | 2008 | 4 | manual(m6) | f | 20 | 31 | p | compact |\n| audi | a4 | 2.0 | 2008 | 4 | auto(av)   | f | 21 | 30 | p | compact |\n| audi | a4 | 2.8 | 1999 | 6 | auto(l5)   | f | 16 | 26 | p | compact |\n| audi | a4 | 2.8 | 1999 | 6 | manual(m5) | f | 18 | 26 | p | compact |\n\n",
            "text/latex": "A tibble: 6 × 11\n\\begin{tabular}{lllllllllll}\n manufacturer & model & displ & year & cyl & trans & drv & cty & hwy & fl & class\\\\\n <chr> & <chr> & <dbl> & <int> & <int> & <chr> & <chr> & <int> & <int> & <chr> & <chr>\\\\\n\\hline\n\t audi & a4 & 1.8 & 1999 & 4 & auto(l5)   & f & 18 & 29 & p & compact\\\\\n\t audi & a4 & 1.8 & 1999 & 4 & manual(m5) & f & 21 & 29 & p & compact\\\\\n\t audi & a4 & 2.0 & 2008 & 4 & manual(m6) & f & 20 & 31 & p & compact\\\\\n\t audi & a4 & 2.0 & 2008 & 4 & auto(av)   & f & 21 & 30 & p & compact\\\\\n\t audi & a4 & 2.8 & 1999 & 6 & auto(l5)   & f & 16 & 26 & p & compact\\\\\n\t audi & a4 & 2.8 & 1999 & 6 & manual(m5) & f & 18 & 26 & p & compact\\\\\n\\end{tabular}\n",
            "text/plain": [
              "  manufacturer model displ year cyl trans      drv cty hwy fl class  \n",
              "1 audi         a4    1.8   1999 4   auto(l5)   f   18  29  p  compact\n",
              "2 audi         a4    1.8   1999 4   manual(m5) f   21  29  p  compact\n",
              "3 audi         a4    2.0   2008 4   manual(m6) f   20  31  p  compact\n",
              "4 audi         a4    2.0   2008 4   auto(av)   f   21  30  p  compact\n",
              "5 audi         a4    2.8   1999 6   auto(l5)   f   16  26  p  compact\n",
              "6 audi         a4    2.8   1999 6   manual(m5) f   18  26  p  compact"
            ]
          },
          "metadata": {}
        }
      ],
      "source": [
        "head(mpg)"
      ]
    },
    {
      "cell_type": "code",
      "source": [
        "dim(mpg)"
      ],
      "metadata": {
        "colab": {
          "base_uri": "https://localhost:8080/",
          "height": 34
        },
        "id": "I4cPcDwopko_",
        "outputId": "6d9df692-46a2-4dc8-f862-9c5d210afe40"
      },
      "execution_count": 30,
      "outputs": [
        {
          "output_type": "display_data",
          "data": {
            "text/html": [
              "<style>\n",
              ".list-inline {list-style: none; margin:0; padding: 0}\n",
              ".list-inline>li {display: inline-block}\n",
              ".list-inline>li:not(:last-child)::after {content: \"\\00b7\"; padding: 0 .5ex}\n",
              "</style>\n",
              "<ol class=list-inline><li>234</li><li>11</li></ol>\n"
            ],
            "text/markdown": "1. 234\n2. 11\n\n\n",
            "text/latex": "\\begin{enumerate*}\n\\item 234\n\\item 11\n\\end{enumerate*}\n",
            "text/plain": [
              "[1] 234  11"
            ]
          },
          "metadata": {}
        }
      ]
    },
    {
      "cell_type": "code",
      "source": [
        "str(mpg)"
      ],
      "metadata": {
        "colab": {
          "base_uri": "https://localhost:8080/"
        },
        "id": "tH4OwG7npl60",
        "outputId": "d17b605c-c49e-49c7-acc7-451eb740f525"
      },
      "execution_count": 31,
      "outputs": [
        {
          "output_type": "stream",
          "name": "stdout",
          "text": [
            "tibble [234 × 11] (S3: tbl_df/tbl/data.frame)\n",
            " $ manufacturer: chr [1:234] \"audi\" \"audi\" \"audi\" \"audi\" ...\n",
            " $ model       : chr [1:234] \"a4\" \"a4\" \"a4\" \"a4\" ...\n",
            " $ displ       : num [1:234] 1.8 1.8 2 2 2.8 2.8 3.1 1.8 1.8 2 ...\n",
            " $ year        : int [1:234] 1999 1999 2008 2008 1999 1999 2008 1999 1999 2008 ...\n",
            " $ cyl         : int [1:234] 4 4 4 4 6 6 6 4 4 4 ...\n",
            " $ trans       : chr [1:234] \"auto(l5)\" \"manual(m5)\" \"manual(m6)\" \"auto(av)\" ...\n",
            " $ drv         : chr [1:234] \"f\" \"f\" \"f\" \"f\" ...\n",
            " $ cty         : int [1:234] 18 21 20 21 16 18 18 18 16 20 ...\n",
            " $ hwy         : int [1:234] 29 29 31 30 26 26 27 26 25 28 ...\n",
            " $ fl          : chr [1:234] \"p\" \"p\" \"p\" \"p\" ...\n",
            " $ class       : chr [1:234] \"compact\" \"compact\" \"compact\" \"compact\" ...\n"
          ]
        }
      ]
    },
    {
      "cell_type": "code",
      "source": [
        "names(mpg)"
      ],
      "metadata": {
        "colab": {
          "base_uri": "https://localhost:8080/",
          "height": 34
        },
        "id": "FBz7NDMypmmT",
        "outputId": "6e56ab6b-7423-4dd5-fcb5-d3d0bdcdce67"
      },
      "execution_count": 32,
      "outputs": [
        {
          "output_type": "display_data",
          "data": {
            "text/html": [
              "<style>\n",
              ".list-inline {list-style: none; margin:0; padding: 0}\n",
              ".list-inline>li {display: inline-block}\n",
              ".list-inline>li:not(:last-child)::after {content: \"\\00b7\"; padding: 0 .5ex}\n",
              "</style>\n",
              "<ol class=list-inline><li>'manufacturer'</li><li>'model'</li><li>'displ'</li><li>'year'</li><li>'cyl'</li><li>'trans'</li><li>'drv'</li><li>'cty'</li><li>'hwy'</li><li>'fl'</li><li>'class'</li></ol>\n"
            ],
            "text/markdown": "1. 'manufacturer'\n2. 'model'\n3. 'displ'\n4. 'year'\n5. 'cyl'\n6. 'trans'\n7. 'drv'\n8. 'cty'\n9. 'hwy'\n10. 'fl'\n11. 'class'\n\n\n",
            "text/latex": "\\begin{enumerate*}\n\\item 'manufacturer'\n\\item 'model'\n\\item 'displ'\n\\item 'year'\n\\item 'cyl'\n\\item 'trans'\n\\item 'drv'\n\\item 'cty'\n\\item 'hwy'\n\\item 'fl'\n\\item 'class'\n\\end{enumerate*}\n",
            "text/plain": [
              " [1] \"manufacturer\" \"model\"        \"displ\"        \"year\"         \"cyl\"         \n",
              " [6] \"trans\"        \"drv\"          \"cty\"          \"hwy\"          \"fl\"          \n",
              "[11] \"class\"       "
            ]
          },
          "metadata": {}
        }
      ]
    },
    {
      "cell_type": "code",
      "source": [
        "hist(mpg$cty)"
      ],
      "metadata": {
        "colab": {
          "base_uri": "https://localhost:8080/",
          "height": 437
        },
        "id": "fofmIjQapn8A",
        "outputId": "9c304425-a47e-4d23-f9cf-bb7ddfc9d7cc"
      },
      "execution_count": 33,
      "outputs": [
        {
          "output_type": "display_data",
          "data": {
            "text/plain": [
              "Plot with title “Histogram of mpg$cty”"
            ],
            "image/png": "[encoded data removed]"
          },
          "metadata": {
            "image/png": {
              "width": 420,
              "height": 420
            }
          }
        }
      ]
    },
    {
      "cell_type": "markdown",
      "source": [
        "filtering cars that are over 25km/gallon"
      ],
      "metadata": {
        "id": "x2IH9kIqqJ3B"
      }
    },
    {
      "cell_type": "code",
      "source": [
        "hist(filter(mpg, cty>25)$cty)"
      ],
      "metadata": {
        "colab": {
          "base_uri": "https://localhost:8080/",
          "height": 437
        },
        "id": "qcJPUoJCqHpE",
        "outputId": "6b59f924-48e0-4ca2-e3b5-09b760bad4b8"
      },
      "execution_count": 34,
      "outputs": [
        {
          "output_type": "display_data",
          "data": {
            "text/plain": [
              "Plot with title “Histogram of filter(mpg, cty > 25)$cty”"
            ],
            "image/png": "[encoded data removed]"
          },
          "metadata": {
            "image/png": {
              "width": 420,
              "height": 420
            }
          }
        }
      ]
    },
    {
      "cell_type": "code",
      "source": [
        "filter(mpg, cty>25 & model == \"civic\")"
      ],
      "metadata": {
        "colab": {
          "base_uri": "https://localhost:8080/",
          "height": 161
        },
        "id": "zSyUzXQ-qnVK",
        "outputId": "5ea20b36-e079-4298-ff94-26ad2aba8ceb"
      },
      "execution_count": 35,
      "outputs": [
        {
          "output_type": "display_data",
          "data": {
            "text/html": [
              "<table class=\"dataframe\">\n",
              "<caption>A tibble: 2 × 11</caption>\n",
              "<thead>\n",
              "\t<tr><th scope=col>manufacturer</th><th scope=col>model</th><th scope=col>displ</th><th scope=col>year</th><th scope=col>cyl</th><th scope=col>trans</th><th scope=col>drv</th><th scope=col>cty</th><th scope=col>hwy</th><th scope=col>fl</th><th scope=col>class</th></tr>\n",
              "\t<tr><th scope=col>&lt;chr&gt;</th><th scope=col>&lt;chr&gt;</th><th scope=col>&lt;dbl&gt;</th><th scope=col>&lt;int&gt;</th><th scope=col>&lt;int&gt;</th><th scope=col>&lt;chr&gt;</th><th scope=col>&lt;chr&gt;</th><th scope=col>&lt;int&gt;</th><th scope=col>&lt;int&gt;</th><th scope=col>&lt;chr&gt;</th><th scope=col>&lt;chr&gt;</th></tr>\n",
              "</thead>\n",
              "<tbody>\n",
              "\t<tr><td>honda</td><td>civic</td><td>1.6</td><td>1999</td><td>4</td><td>manual(m5)</td><td>f</td><td>28</td><td>33</td><td>r</td><td>subcompact</td></tr>\n",
              "\t<tr><td>honda</td><td>civic</td><td>1.8</td><td>2008</td><td>4</td><td>manual(m5)</td><td>f</td><td>26</td><td>34</td><td>r</td><td>subcompact</td></tr>\n",
              "</tbody>\n",
              "</table>\n"
            ],
            "text/markdown": "\nA tibble: 2 × 11\n\n| manufacturer &lt;chr&gt; | model &lt;chr&gt; | displ &lt;dbl&gt; | year &lt;int&gt; | cyl &lt;int&gt; | trans &lt;chr&gt; | drv &lt;chr&gt; | cty &lt;int&gt; | hwy &lt;int&gt; | fl &lt;chr&gt; | class &lt;chr&gt; |\n|---|---|---|---|---|---|---|---|---|---|---|\n| honda | civic | 1.6 | 1999 | 4 | manual(m5) | f | 28 | 33 | r | subcompact |\n| honda | civic | 1.8 | 2008 | 4 | manual(m5) | f | 26 | 34 | r | subcompact |\n\n",
            "text/latex": "A tibble: 2 × 11\n\\begin{tabular}{lllllllllll}\n manufacturer & model & displ & year & cyl & trans & drv & cty & hwy & fl & class\\\\\n <chr> & <chr> & <dbl> & <int> & <int> & <chr> & <chr> & <int> & <int> & <chr> & <chr>\\\\\n\\hline\n\t honda & civic & 1.6 & 1999 & 4 & manual(m5) & f & 28 & 33 & r & subcompact\\\\\n\t honda & civic & 1.8 & 2008 & 4 & manual(m5) & f & 26 & 34 & r & subcompact\\\\\n\\end{tabular}\n",
            "text/plain": [
              "  manufacturer model displ year cyl trans      drv cty hwy fl class     \n",
              "1 honda        civic 1.6   1999 4   manual(m5) f   28  33  r  subcompact\n",
              "2 honda        civic 1.8   2008 4   manual(m5) f   26  34  r  subcompact"
            ]
          },
          "metadata": {}
        }
      ]
    },
    {
      "cell_type": "markdown",
      "source": [
        "## select"
      ],
      "metadata": {
        "id": "gMkcGXQXq2Ty"
      }
    },
    {
      "cell_type": "code",
      "source": [
        "# select from mpg, data\n",
        "head(select(mpg, c(model, year)))"
      ],
      "metadata": {
        "colab": {
          "base_uri": "https://localhost:8080/",
          "height": 286
        },
        "id": "89_20nzPq3zt",
        "outputId": "dd44c663-4b95-4238-9972-11f53d60e44d"
      },
      "execution_count": 36,
      "outputs": [
        {
          "output_type": "display_data",
          "data": {
            "text/html": [
              "<table class=\"dataframe\">\n",
              "<caption>A tibble: 6 × 2</caption>\n",
              "<thead>\n",
              "\t<tr><th scope=col>model</th><th scope=col>year</th></tr>\n",
              "\t<tr><th scope=col>&lt;chr&gt;</th><th scope=col>&lt;int&gt;</th></tr>\n",
              "</thead>\n",
              "<tbody>\n",
              "\t<tr><td>a4</td><td>1999</td></tr>\n",
              "\t<tr><td>a4</td><td>1999</td></tr>\n",
              "\t<tr><td>a4</td><td>2008</td></tr>\n",
              "\t<tr><td>a4</td><td>2008</td></tr>\n",
              "\t<tr><td>a4</td><td>1999</td></tr>\n",
              "\t<tr><td>a4</td><td>1999</td></tr>\n",
              "</tbody>\n",
              "</table>\n"
            ],
            "text/markdown": "\nA tibble: 6 × 2\n\n| model &lt;chr&gt; | year &lt;int&gt; |\n|---|---|\n| a4 | 1999 |\n| a4 | 1999 |\n| a4 | 2008 |\n| a4 | 2008 |\n| a4 | 1999 |\n| a4 | 1999 |\n\n",
            "text/latex": "A tibble: 6 × 2\n\\begin{tabular}{ll}\n model & year\\\\\n <chr> & <int>\\\\\n\\hline\n\t a4 & 1999\\\\\n\t a4 & 1999\\\\\n\t a4 & 2008\\\\\n\t a4 & 2008\\\\\n\t a4 & 1999\\\\\n\t a4 & 1999\\\\\n\\end{tabular}\n",
            "text/plain": [
              "  model year\n",
              "1 a4    1999\n",
              "2 a4    1999\n",
              "3 a4    2008\n",
              "4 a4    2008\n",
              "5 a4    1999\n",
              "6 a4    1999"
            ]
          },
          "metadata": {}
        }
      ]
    },
    {
      "cell_type": "markdown",
      "source": [
        "## pipe"
      ],
      "metadata": {
        "id": "YdPvvC_7r0V5"
      }
    },
    {
      "cell_type": "code",
      "source": [
        "#  %>%\n",
        "mpg%>%filter(cty>25)%>%select(c(model, year))"
      ],
      "metadata": {
        "colab": {
          "base_uri": "https://localhost:8080/",
          "height": 349
        },
        "id": "6OHG97MMr1GS",
        "outputId": "09902134-0b3f-4eff-f7d2-18cca5e059d1"
      },
      "execution_count": 37,
      "outputs": [
        {
          "output_type": "display_data",
          "data": {
            "text/html": [
              "<table class=\"dataframe\">\n",
              "<caption>A tibble: 8 × 2</caption>\n",
              "<thead>\n",
              "\t<tr><th scope=col>model</th><th scope=col>year</th></tr>\n",
              "\t<tr><th scope=col>&lt;chr&gt;</th><th scope=col>&lt;int&gt;</th></tr>\n",
              "</thead>\n",
              "<tbody>\n",
              "\t<tr><td>civic     </td><td>1999</td></tr>\n",
              "\t<tr><td>civic     </td><td>2008</td></tr>\n",
              "\t<tr><td>corolla   </td><td>1999</td></tr>\n",
              "\t<tr><td>corolla   </td><td>2008</td></tr>\n",
              "\t<tr><td>corolla   </td><td>2008</td></tr>\n",
              "\t<tr><td>jetta     </td><td>1999</td></tr>\n",
              "\t<tr><td>new beetle</td><td>1999</td></tr>\n",
              "\t<tr><td>new beetle</td><td>1999</td></tr>\n",
              "</tbody>\n",
              "</table>\n"
            ],
            "text/markdown": "\nA tibble: 8 × 2\n\n| model &lt;chr&gt; | year &lt;int&gt; |\n|---|---|\n| civic      | 1999 |\n| civic      | 2008 |\n| corolla    | 1999 |\n| corolla    | 2008 |\n| corolla    | 2008 |\n| jetta      | 1999 |\n| new beetle | 1999 |\n| new beetle | 1999 |\n\n",
            "text/latex": "A tibble: 8 × 2\n\\begin{tabular}{ll}\n model & year\\\\\n <chr> & <int>\\\\\n\\hline\n\t civic      & 1999\\\\\n\t civic      & 2008\\\\\n\t corolla    & 1999\\\\\n\t corolla    & 2008\\\\\n\t corolla    & 2008\\\\\n\t jetta      & 1999\\\\\n\t new beetle & 1999\\\\\n\t new beetle & 1999\\\\\n\\end{tabular}\n",
            "text/plain": [
              "  model      year\n",
              "1 civic      1999\n",
              "2 civic      2008\n",
              "3 corolla    1999\n",
              "4 corolla    2008\n",
              "5 corolla    2008\n",
              "6 jetta      1999\n",
              "7 new beetle 1999\n",
              "8 new beetle 1999"
            ]
          },
          "metadata": {}
        }
      ]
    },
    {
      "cell_type": "code",
      "source": [
        "names(mpg)"
      ],
      "metadata": {
        "colab": {
          "base_uri": "https://localhost:8080/",
          "height": 34
        },
        "id": "yIjk3GSu81cn",
        "outputId": "16b96c7f-a60e-4f61-bf43-5812e011a735"
      },
      "execution_count": 38,
      "outputs": [
        {
          "output_type": "display_data",
          "data": {
            "text/html": [
              "<style>\n",
              ".list-inline {list-style: none; margin:0; padding: 0}\n",
              ".list-inline>li {display: inline-block}\n",
              ".list-inline>li:not(:last-child)::after {content: \"\\00b7\"; padding: 0 .5ex}\n",
              "</style>\n",
              "<ol class=list-inline><li>'manufacturer'</li><li>'model'</li><li>'displ'</li><li>'year'</li><li>'cyl'</li><li>'trans'</li><li>'drv'</li><li>'cty'</li><li>'hwy'</li><li>'fl'</li><li>'class'</li></ol>\n"
            ],
            "text/markdown": "1. 'manufacturer'\n2. 'model'\n3. 'displ'\n4. 'year'\n5. 'cyl'\n6. 'trans'\n7. 'drv'\n8. 'cty'\n9. 'hwy'\n10. 'fl'\n11. 'class'\n\n\n",
            "text/latex": "\\begin{enumerate*}\n\\item 'manufacturer'\n\\item 'model'\n\\item 'displ'\n\\item 'year'\n\\item 'cyl'\n\\item 'trans'\n\\item 'drv'\n\\item 'cty'\n\\item 'hwy'\n\\item 'fl'\n\\item 'class'\n\\end{enumerate*}\n",
            "text/plain": [
              " [1] \"manufacturer\" \"model\"        \"displ\"        \"year\"         \"cyl\"         \n",
              " [6] \"trans\"        \"drv\"          \"cty\"          \"hwy\"          \"fl\"          \n",
              "[11] \"class\"       "
            ]
          },
          "metadata": {}
        }
      ]
    },
    {
      "cell_type": "code",
      "source": [
        "#what model of cars get the worst gas mileage (under 15mpg(miles per gallon))\n",
        "head(\n",
        "  mpg%>%\n",
        "  filter(cty<15)%>%\n",
        "  select(model)\n",
        ")"
      ],
      "metadata": {
        "colab": {
          "base_uri": "https://localhost:8080/",
          "height": 286
        },
        "id": "0wvb84hD83JW",
        "outputId": "e42b5fd4-5b90-4dd6-fb06-8026f031c57b"
      },
      "execution_count": 39,
      "outputs": [
        {
          "output_type": "display_data",
          "data": {
            "text/html": [
              "<table class=\"dataframe\">\n",
              "<caption>A tibble: 6 × 1</caption>\n",
              "<thead>\n",
              "\t<tr><th scope=col>model</th></tr>\n",
              "\t<tr><th scope=col>&lt;chr&gt;</th></tr>\n",
              "</thead>\n",
              "<tbody>\n",
              "\t<tr><td>c1500 suburban 2wd</td></tr>\n",
              "\t<tr><td>c1500 suburban 2wd</td></tr>\n",
              "\t<tr><td>c1500 suburban 2wd</td></tr>\n",
              "\t<tr><td>c1500 suburban 2wd</td></tr>\n",
              "\t<tr><td>c1500 suburban 2wd</td></tr>\n",
              "\t<tr><td>k1500 tahoe 4wd   </td></tr>\n",
              "</tbody>\n",
              "</table>\n"
            ],
            "text/markdown": "\nA tibble: 6 × 1\n\n| model &lt;chr&gt; |\n|---|\n| c1500 suburban 2wd |\n| c1500 suburban 2wd |\n| c1500 suburban 2wd |\n| c1500 suburban 2wd |\n| c1500 suburban 2wd |\n| k1500 tahoe 4wd    |\n\n",
            "text/latex": "A tibble: 6 × 1\n\\begin{tabular}{l}\n model\\\\\n <chr>\\\\\n\\hline\n\t c1500 suburban 2wd\\\\\n\t c1500 suburban 2wd\\\\\n\t c1500 suburban 2wd\\\\\n\t c1500 suburban 2wd\\\\\n\t c1500 suburban 2wd\\\\\n\t k1500 tahoe 4wd   \\\\\n\\end{tabular}\n",
            "text/plain": [
              "  model             \n",
              "1 c1500 suburban 2wd\n",
              "2 c1500 suburban 2wd\n",
              "3 c1500 suburban 2wd\n",
              "4 c1500 suburban 2wd\n",
              "5 c1500 suburban 2wd\n",
              "6 k1500 tahoe 4wd   "
            ]
          },
          "metadata": {}
        }
      ]
    },
    {
      "cell_type": "markdown",
      "source": [
        "## Group By and Summarise"
      ],
      "metadata": {
        "id": "HudFYcnT-L_5"
      }
    },
    {
      "cell_type": "code",
      "source": [
        "mpg%>%\n",
        "  group_by(manufacturer)%>%\n",
        "  summarise(count = n(), avgcty = mean(cty, na.rm = T))"
      ],
      "metadata": {
        "colab": {
          "base_uri": "https://localhost:8080/",
          "height": 568
        },
        "id": "zMgsGrRp-NWN",
        "outputId": "5c4f37ce-aff0-446f-cc33-fe207a53da1a"
      },
      "execution_count": 40,
      "outputs": [
        {
          "output_type": "display_data",
          "data": {
            "text/html": [
              "<table class=\"dataframe\">\n",
              "<caption>A tibble: 15 × 3</caption>\n",
              "<thead>\n",
              "\t<tr><th scope=col>manufacturer</th><th scope=col>count</th><th scope=col>avgcty</th></tr>\n",
              "\t<tr><th scope=col>&lt;chr&gt;</th><th scope=col>&lt;int&gt;</th><th scope=col>&lt;dbl&gt;</th></tr>\n",
              "</thead>\n",
              "<tbody>\n",
              "\t<tr><td>audi      </td><td>18</td><td>17.61111</td></tr>\n",
              "\t<tr><td>chevrolet </td><td>19</td><td>15.00000</td></tr>\n",
              "\t<tr><td>dodge     </td><td>37</td><td>13.13514</td></tr>\n",
              "\t<tr><td>ford      </td><td>25</td><td>14.00000</td></tr>\n",
              "\t<tr><td>honda     </td><td> 9</td><td>24.44444</td></tr>\n",
              "\t<tr><td>hyundai   </td><td>14</td><td>18.64286</td></tr>\n",
              "\t<tr><td>jeep      </td><td> 8</td><td>13.50000</td></tr>\n",
              "\t<tr><td>land rover</td><td> 4</td><td>11.50000</td></tr>\n",
              "\t<tr><td>lincoln   </td><td> 3</td><td>11.33333</td></tr>\n",
              "\t<tr><td>mercury   </td><td> 4</td><td>13.25000</td></tr>\n",
              "\t<tr><td>nissan    </td><td>13</td><td>18.07692</td></tr>\n",
              "\t<tr><td>pontiac   </td><td> 5</td><td>17.00000</td></tr>\n",
              "\t<tr><td>subaru    </td><td>14</td><td>19.28571</td></tr>\n",
              "\t<tr><td>toyota    </td><td>34</td><td>18.52941</td></tr>\n",
              "\t<tr><td>volkswagen</td><td>27</td><td>20.92593</td></tr>\n",
              "</tbody>\n",
              "</table>\n"
            ],
            "text/markdown": "\nA tibble: 15 × 3\n\n| manufacturer &lt;chr&gt; | count &lt;int&gt; | avgcty &lt;dbl&gt; |\n|---|---|---|\n| audi       | 18 | 17.61111 |\n| chevrolet  | 19 | 15.00000 |\n| dodge      | 37 | 13.13514 |\n| ford       | 25 | 14.00000 |\n| honda      |  9 | 24.44444 |\n| hyundai    | 14 | 18.64286 |\n| jeep       |  8 | 13.50000 |\n| land rover |  4 | 11.50000 |\n| lincoln    |  3 | 11.33333 |\n| mercury    |  4 | 13.25000 |\n| nissan     | 13 | 18.07692 |\n| pontiac    |  5 | 17.00000 |\n| subaru     | 14 | 19.28571 |\n| toyota     | 34 | 18.52941 |\n| volkswagen | 27 | 20.92593 |\n\n",
            "text/latex": "A tibble: 15 × 3\n\\begin{tabular}{lll}\n manufacturer & count & avgcty\\\\\n <chr> & <int> & <dbl>\\\\\n\\hline\n\t audi       & 18 & 17.61111\\\\\n\t chevrolet  & 19 & 15.00000\\\\\n\t dodge      & 37 & 13.13514\\\\\n\t ford       & 25 & 14.00000\\\\\n\t honda      &  9 & 24.44444\\\\\n\t hyundai    & 14 & 18.64286\\\\\n\t jeep       &  8 & 13.50000\\\\\n\t land rover &  4 & 11.50000\\\\\n\t lincoln    &  3 & 11.33333\\\\\n\t mercury    &  4 & 13.25000\\\\\n\t nissan     & 13 & 18.07692\\\\\n\t pontiac    &  5 & 17.00000\\\\\n\t subaru     & 14 & 19.28571\\\\\n\t toyota     & 34 & 18.52941\\\\\n\t volkswagen & 27 & 20.92593\\\\\n\\end{tabular}\n",
            "text/plain": [
              "   manufacturer count avgcty  \n",
              "1  audi         18    17.61111\n",
              "2  chevrolet    19    15.00000\n",
              "3  dodge        37    13.13514\n",
              "4  ford         25    14.00000\n",
              "5  honda         9    24.44444\n",
              "6  hyundai      14    18.64286\n",
              "7  jeep          8    13.50000\n",
              "8  land rover    4    11.50000\n",
              "9  lincoln       3    11.33333\n",
              "10 mercury       4    13.25000\n",
              "11 nissan       13    18.07692\n",
              "12 pontiac       5    17.00000\n",
              "13 subaru       14    19.28571\n",
              "14 toyota       34    18.52941\n",
              "15 volkswagen   27    20.92593"
            ]
          },
          "metadata": {}
        }
      ]
    },
    {
      "cell_type": "markdown",
      "source": [
        "## Mutate and Arrange\n",
        "mutate: allows us to create new columns"
      ],
      "metadata": {
        "id": "S53a_7td_e-1"
      }
    },
    {
      "cell_type": "code",
      "source": [
        "mpg%>%\n",
        "  group_by(manufacturer)%>%\n",
        "  summarise(count = n(), avgcty = mean(cty, na.rm = T))%>%\n",
        "  mutate(test = count * avgcty)"
      ],
      "metadata": {
        "colab": {
          "base_uri": "https://localhost:8080/",
          "height": 568
        },
        "id": "3UvhIZai_g3e",
        "outputId": "f5d12700-7726-4dca-aece-32ee4a6a2f65"
      },
      "execution_count": 41,
      "outputs": [
        {
          "output_type": "display_data",
          "data": {
            "text/html": [
              "<table class=\"dataframe\">\n",
              "<caption>A tibble: 15 × 4</caption>\n",
              "<thead>\n",
              "\t<tr><th scope=col>manufacturer</th><th scope=col>count</th><th scope=col>avgcty</th><th scope=col>test</th></tr>\n",
              "\t<tr><th scope=col>&lt;chr&gt;</th><th scope=col>&lt;int&gt;</th><th scope=col>&lt;dbl&gt;</th><th scope=col>&lt;dbl&gt;</th></tr>\n",
              "</thead>\n",
              "<tbody>\n",
              "\t<tr><td>audi      </td><td>18</td><td>17.61111</td><td>317</td></tr>\n",
              "\t<tr><td>chevrolet </td><td>19</td><td>15.00000</td><td>285</td></tr>\n",
              "\t<tr><td>dodge     </td><td>37</td><td>13.13514</td><td>486</td></tr>\n",
              "\t<tr><td>ford      </td><td>25</td><td>14.00000</td><td>350</td></tr>\n",
              "\t<tr><td>honda     </td><td> 9</td><td>24.44444</td><td>220</td></tr>\n",
              "\t<tr><td>hyundai   </td><td>14</td><td>18.64286</td><td>261</td></tr>\n",
              "\t<tr><td>jeep      </td><td> 8</td><td>13.50000</td><td>108</td></tr>\n",
              "\t<tr><td>land rover</td><td> 4</td><td>11.50000</td><td> 46</td></tr>\n",
              "\t<tr><td>lincoln   </td><td> 3</td><td>11.33333</td><td> 34</td></tr>\n",
              "\t<tr><td>mercury   </td><td> 4</td><td>13.25000</td><td> 53</td></tr>\n",
              "\t<tr><td>nissan    </td><td>13</td><td>18.07692</td><td>235</td></tr>\n",
              "\t<tr><td>pontiac   </td><td> 5</td><td>17.00000</td><td> 85</td></tr>\n",
              "\t<tr><td>subaru    </td><td>14</td><td>19.28571</td><td>270</td></tr>\n",
              "\t<tr><td>toyota    </td><td>34</td><td>18.52941</td><td>630</td></tr>\n",
              "\t<tr><td>volkswagen</td><td>27</td><td>20.92593</td><td>565</td></tr>\n",
              "</tbody>\n",
              "</table>\n"
            ],
            "text/markdown": "\nA tibble: 15 × 4\n\n| manufacturer &lt;chr&gt; | count &lt;int&gt; | avgcty &lt;dbl&gt; | test &lt;dbl&gt; |\n|---|---|---|---|\n| audi       | 18 | 17.61111 | 317 |\n| chevrolet  | 19 | 15.00000 | 285 |\n| dodge      | 37 | 13.13514 | 486 |\n| ford       | 25 | 14.00000 | 350 |\n| honda      |  9 | 24.44444 | 220 |\n| hyundai    | 14 | 18.64286 | 261 |\n| jeep       |  8 | 13.50000 | 108 |\n| land rover |  4 | 11.50000 |  46 |\n| lincoln    |  3 | 11.33333 |  34 |\n| mercury    |  4 | 13.25000 |  53 |\n| nissan     | 13 | 18.07692 | 235 |\n| pontiac    |  5 | 17.00000 |  85 |\n| subaru     | 14 | 19.28571 | 270 |\n| toyota     | 34 | 18.52941 | 630 |\n| volkswagen | 27 | 20.92593 | 565 |\n\n",
            "text/latex": "A tibble: 15 × 4\n\\begin{tabular}{llll}\n manufacturer & count & avgcty & test\\\\\n <chr> & <int> & <dbl> & <dbl>\\\\\n\\hline\n\t audi       & 18 & 17.61111 & 317\\\\\n\t chevrolet  & 19 & 15.00000 & 285\\\\\n\t dodge      & 37 & 13.13514 & 486\\\\\n\t ford       & 25 & 14.00000 & 350\\\\\n\t honda      &  9 & 24.44444 & 220\\\\\n\t hyundai    & 14 & 18.64286 & 261\\\\\n\t jeep       &  8 & 13.50000 & 108\\\\\n\t land rover &  4 & 11.50000 &  46\\\\\n\t lincoln    &  3 & 11.33333 &  34\\\\\n\t mercury    &  4 & 13.25000 &  53\\\\\n\t nissan     & 13 & 18.07692 & 235\\\\\n\t pontiac    &  5 & 17.00000 &  85\\\\\n\t subaru     & 14 & 19.28571 & 270\\\\\n\t toyota     & 34 & 18.52941 & 630\\\\\n\t volkswagen & 27 & 20.92593 & 565\\\\\n\\end{tabular}\n",
            "text/plain": [
              "   manufacturer count avgcty   test\n",
              "1  audi         18    17.61111 317 \n",
              "2  chevrolet    19    15.00000 285 \n",
              "3  dodge        37    13.13514 486 \n",
              "4  ford         25    14.00000 350 \n",
              "5  honda         9    24.44444 220 \n",
              "6  hyundai      14    18.64286 261 \n",
              "7  jeep          8    13.50000 108 \n",
              "8  land rover    4    11.50000  46 \n",
              "9  lincoln       3    11.33333  34 \n",
              "10 mercury       4    13.25000  53 \n",
              "11 nissan       13    18.07692 235 \n",
              "12 pontiac       5    17.00000  85 \n",
              "13 subaru       14    19.28571 270 \n",
              "14 toyota       34    18.52941 630 \n",
              "15 volkswagen   27    20.92593 565 "
            ]
          },
          "metadata": {}
        }
      ]
    },
    {
      "cell_type": "code",
      "source": [
        "head(\n",
        "  mpg%>%\n",
        "  mutate(conversion = displ*.16)%>%\n",
        "  select(c(manufacturer, model, displ, conversion))%>%\n",
        "  arrange(conversion)   #arrange(desc(conversion))\n",
        ", 10)"
      ],
      "metadata": {
        "colab": {
          "base_uri": "https://localhost:8080/",
          "height": 411
        },
        "id": "8fSyNanSAbmO",
        "outputId": "029aef77-91f7-4b69-b4ed-cc2ae0265c41"
      },
      "execution_count": 42,
      "outputs": [
        {
          "output_type": "display_data",
          "data": {
            "text/html": [
              "<table class=\"dataframe\">\n",
              "<caption>A tibble: 10 × 4</caption>\n",
              "<thead>\n",
              "\t<tr><th scope=col>manufacturer</th><th scope=col>model</th><th scope=col>displ</th><th scope=col>conversion</th></tr>\n",
              "\t<tr><th scope=col>&lt;chr&gt;</th><th scope=col>&lt;chr&gt;</th><th scope=col>&lt;dbl&gt;</th><th scope=col>&lt;dbl&gt;</th></tr>\n",
              "</thead>\n",
              "<tbody>\n",
              "\t<tr><td>honda</td><td>civic     </td><td>1.6</td><td>0.256</td></tr>\n",
              "\t<tr><td>honda</td><td>civic     </td><td>1.6</td><td>0.256</td></tr>\n",
              "\t<tr><td>honda</td><td>civic     </td><td>1.6</td><td>0.256</td></tr>\n",
              "\t<tr><td>honda</td><td>civic     </td><td>1.6</td><td>0.256</td></tr>\n",
              "\t<tr><td>honda</td><td>civic     </td><td>1.6</td><td>0.256</td></tr>\n",
              "\t<tr><td>audi </td><td>a4        </td><td>1.8</td><td>0.288</td></tr>\n",
              "\t<tr><td>audi </td><td>a4        </td><td>1.8</td><td>0.288</td></tr>\n",
              "\t<tr><td>audi </td><td>a4 quattro</td><td>1.8</td><td>0.288</td></tr>\n",
              "\t<tr><td>audi </td><td>a4 quattro</td><td>1.8</td><td>0.288</td></tr>\n",
              "\t<tr><td>honda</td><td>civic     </td><td>1.8</td><td>0.288</td></tr>\n",
              "</tbody>\n",
              "</table>\n"
            ],
            "text/markdown": "\nA tibble: 10 × 4\n\n| manufacturer &lt;chr&gt; | model &lt;chr&gt; | displ &lt;dbl&gt; | conversion &lt;dbl&gt; |\n|---|---|---|---|\n| honda | civic      | 1.6 | 0.256 |\n| honda | civic      | 1.6 | 0.256 |\n| honda | civic      | 1.6 | 0.256 |\n| honda | civic      | 1.6 | 0.256 |\n| honda | civic      | 1.6 | 0.256 |\n| audi  | a4         | 1.8 | 0.288 |\n| audi  | a4         | 1.8 | 0.288 |\n| audi  | a4 quattro | 1.8 | 0.288 |\n| audi  | a4 quattro | 1.8 | 0.288 |\n| honda | civic      | 1.8 | 0.288 |\n\n",
            "text/latex": "A tibble: 10 × 4\n\\begin{tabular}{llll}\n manufacturer & model & displ & conversion\\\\\n <chr> & <chr> & <dbl> & <dbl>\\\\\n\\hline\n\t honda & civic      & 1.6 & 0.256\\\\\n\t honda & civic      & 1.6 & 0.256\\\\\n\t honda & civic      & 1.6 & 0.256\\\\\n\t honda & civic      & 1.6 & 0.256\\\\\n\t honda & civic      & 1.6 & 0.256\\\\\n\t audi  & a4         & 1.8 & 0.288\\\\\n\t audi  & a4         & 1.8 & 0.288\\\\\n\t audi  & a4 quattro & 1.8 & 0.288\\\\\n\t audi  & a4 quattro & 1.8 & 0.288\\\\\n\t honda & civic      & 1.8 & 0.288\\\\\n\\end{tabular}\n",
            "text/plain": [
              "   manufacturer model      displ conversion\n",
              "1  honda        civic      1.6   0.256     \n",
              "2  honda        civic      1.6   0.256     \n",
              "3  honda        civic      1.6   0.256     \n",
              "4  honda        civic      1.6   0.256     \n",
              "5  honda        civic      1.6   0.256     \n",
              "6  audi         a4         1.8   0.288     \n",
              "7  audi         a4         1.8   0.288     \n",
              "8  audi         a4 quattro 1.8   0.288     \n",
              "9  audi         a4 quattro 1.8   0.288     \n",
              "10 honda        civic      1.8   0.288     "
            ]
          },
          "metadata": {}
        }
      ]
    }
  ]
}